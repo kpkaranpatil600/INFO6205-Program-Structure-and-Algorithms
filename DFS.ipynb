{
  "cells": [
    {
      "cell_type": "markdown",
      "metadata": {
        "id": "view-in-github",
        "colab_type": "text"
      },
      "source": [
        "<a href=\"https://colab.research.google.com/github/kpkaranpatil600/INFO6205-Program-Structure-and-Algorithms/blob/main/DFS.ipynb\" target=\"_parent\"><img src=\"https://colab.research.google.com/assets/colab-badge.svg\" alt=\"Open In Colab\"/></a>"
      ]
    },
    {
      "cell_type": "markdown",
      "metadata": {
        "id": "FVcemqF_iAEA"
      },
      "source": [
        "## Graph data structure\n",
        "## Copyright: Jagadeesh Vasudevamurthy\n",
        "## filename:graph.ipynb¶"
      ]
    },
    {
      "cell_type": "markdown",
      "metadata": {
        "id": "T2DGikmviAEC"
      },
      "source": [
        "# All import here"
      ]
    },
    {
      "cell_type": "code",
      "execution_count": 15,
      "metadata": {
        "colab": {
          "base_uri": "https://localhost:8080/"
        },
        "id": "ZU0hz2GbXDem",
        "outputId": "3b062b81-34db-478a-8272-036f4baf4bad"
      },
      "outputs": [
        {
          "output_type": "stream",
          "name": "stdout",
          "text": [
            "Version of Python I am using is 3.10.12 (main, Jun 11 2023, 05:26:28) [GCC 11.4.0]\n",
            "Version of networkx I am using is 3.1\n"
          ]
        }
      ],
      "source": [
        "import sys # For getting Python Version\n",
        "import os\n",
        "import enum # For enum\n",
        "from graphviz import Source\n",
        "import graphviz\n",
        "import networkx as nx\n",
        "print(\"Version of Python I am using is\", sys.version)\n",
        "print(\"Version of networkx I am using is\", nx.__version__)"
      ]
    },
    {
      "cell_type": "markdown",
      "metadata": {
        "id": "DMbS4oPriAEF"
      },
      "source": [
        "# Graph input and output directory setup\n",
        "# YOU MUST CHANGE 2 lines below"
      ]
    },
    {
      "cell_type": "code",
      "execution_count": 16,
      "metadata": {
        "id": "ZfFc76elXVRL"
      },
      "outputs": [],
      "source": [
        "inputFileBase = \"/graphdata/\"\n",
        "outputFileBase = \"/dot/\""
      ]
    },
    {
      "cell_type": "code",
      "execution_count": 17,
      "metadata": {
        "id": "8PylF7FBXXsv"
      },
      "outputs": [],
      "source": [
        "def read_dot_file(f:'string')->'dot_graph':\n",
        "    filename = outputFileBase + f + \".dot\"\n",
        "    print(filename)\n",
        "    with open(filename) as f1:\n",
        "        dot_graph = f1.read()\n",
        "    print(dot_graph)\n",
        "    return(dot_graph)"
      ]
    },
    {
      "cell_type": "markdown",
      "metadata": {
        "id": "mBKiUiEliAEH"
      },
      "source": [
        "# Write Graph as a dot file"
      ]
    },
    {
      "cell_type": "markdown",
      "metadata": {
        "id": "KGjquwuiiAEI"
      },
      "source": [
        "# YOU WRITE CODE HERE"
      ]
    },
    {
      "cell_type": "code",
      "execution_count": 18,
      "metadata": {
        "id": "AVLGBbVIXdKz"
      },
      "outputs": [],
      "source": [
        "############################################################\n",
        "# GraphDot.py\n",
        "# Author: Jagadeesh Vasudevamurthy\n",
        "# Copyright: Jagadeesh Vasudevamurthy 2020\n",
        "###########################################################\n",
        "\n",
        "############################################################\n",
        "# YOU WRITE CODE IN THIS FILE\n",
        "###########################################################\n",
        "\n",
        "############################################################\n",
        "# All imports\n",
        "###########################################################\n",
        "#from GraphType import *  ## #Otherwise, you cannot use GraphType\n",
        "\n",
        "\n",
        "class GraphDot:\n",
        "    def __init__(self, g, f):\n",
        "        self._g = g  # Handle to graph\n",
        "        self._f = f  # File where you write graph in dot format\n",
        "        self._of = open(self._f, \"w\")\n",
        "        self._write_dot()\n",
        "        self._of.close()\n",
        "\n",
        "    ############################################################\n",
        "    # Write code: _write_dot\n",
        "    # Use as many private functions and prvate data you want\n",
        "    ###########################################################\n",
        "    def _write_dot(self):\n",
        "        self._of.write(\"## Karan Patil ####\\n\")\n",
        "        self._of.write(\"digraph g {\\n\")\n",
        "        if not self._g.is_directed_graph():\n",
        "            self._of.write(\"edge [dir=none, color=red]\\n\")\n",
        "        else:\n",
        "            self._of.write(\"edge [color=red]\\n\")\n",
        "\n",
        "\n",
        "        visited_edges = []\n",
        "\n",
        "\n",
        "        for node in self._g.list_of_nodes():\n",
        "            fanouts = self._g.fanouts_of_node(node)\n",
        "\n",
        "            for fanout in fanouts:\n",
        "                edge = str(node) + \" \" + str(fanout)\n",
        "                reverse_edge = str(fanout) + \" \" + str(node) #to reverse the edge to find if it is present in the list\n",
        "\n",
        "                if edge in visited_edges or reverse_edge in visited_edges:\n",
        "                    continue\n",
        "                visited_edges.append(edge)\n",
        "\n",
        "                edge_str = str(node) + \" \"\n",
        "\n",
        "\n",
        "                if self._g.is_weighted_graph():\n",
        "                    weight = self._g.get_edge_weight(node, fanout)\n",
        "                    edge_str += \"-> \"\n",
        "                    edge_str += str(fanout) + \" [label = \" + str(weight) + \"]\\n\"\n",
        "                else:\n",
        "                    edge_str += \"-> \"\n",
        "                    edge_str += str(fanout) + \"\\n\"\n",
        "\n",
        "                self._of.write(edge_str)\n",
        "\n",
        "        self._of.write(\"}\\n\")\n",
        "\n"
      ]
    },
    {
      "cell_type": "markdown",
      "metadata": {
        "id": "Z3tg-vKWiAEK"
      },
      "source": [
        "# DFS USING TIME STAMP"
      ]
    },
    {
      "cell_type": "code",
      "execution_count": 19,
      "metadata": {
        "id": "SmTzzyQ0XgI5"
      },
      "outputs": [],
      "source": [
        "############################################################\n",
        "# GraphDfs.py\n",
        "# Author: Jagadeesh Vasudevamurthy\n",
        "# Copyright: Jagadeesh Vasudevamurthy 2023\n",
        "###########################################################\n",
        "\n",
        "############################################################\n",
        "# All imports\n",
        "###########################################################\n",
        "#from GraphType import *  ## #Otherwise, you cannot use GraphType\n",
        "#from Graph import *\n",
        "#from Data import *  ##User UDT\n",
        "\n",
        "############################################################\n",
        "# Depth First serach using TimeStamp\n",
        "###########################################################\n",
        "class GraphDfsUsingTimeStamp:\n",
        "    def __init__(\n",
        "        self,\n",
        "        g: \"graph\",\n",
        "        gname: \"string\",\n",
        "        dfs_order: \"list of Nodes\",\n",
        "        has_loop: \"list of size 1\",\n",
        "        work: \"list of size 1\",\n",
        "        dfs_traversal_output_file,\n",
        "    ):\n",
        "        ##NOTHING CAN BE CHANGED HERE\n",
        "        self._g = g\n",
        "        self._f = gname\n",
        "        self._dfs_order = dfs_order\n",
        "        self._has_loop = has_loop\n",
        "        self._has_loop[0] = False\n",
        "        self._work = work\n",
        "        self._work[0] = 0\n",
        "        self._dfs_traversal_output_file = dfs_traversal_output_file\n",
        "\n",
        "        ##YOU CAN has any number of private varibles and funcions\n",
        "\n",
        "        self._dfs()\n",
        "        self._write_dot()\n",
        "\n",
        "    ##########################################################\n",
        "    # Write dot file of DFS traversal\n",
        "    ##########################################################\n",
        "    def _write_dot(self):\n",
        "        with open(self._dfs_traversal_output_file, \"w\") as f:\n",
        "            f.write(\"digraph g {\\n\")\n",
        "            f.write('label = \"[{} ] {}\"\\n'.format(\" \".join(str(n) for n in self._dfs_order), \"LOOP\" if self._has_loop[0] else \"NOLOOP\"))\n",
        "            time_values = {}\n",
        "\n",
        "            def _dfs_visit_time(node, parent, visited_nodes, time, call_stack_visited):\n",
        "                visited_nodes.add(node)\n",
        "                call_stack_visited.add(node)\n",
        "                time += 1\n",
        "                time_values[node] = (time, None)\n",
        "\n",
        "                for neighbor in self._g.fanouts_of_node(node):\n",
        "                    if neighbor != parent:\n",
        "                        if neighbor not in visited_nodes:\n",
        "                            time = _dfs_visit_time(neighbor, node, visited_nodes, time, call_stack_visited)\n",
        "\n",
        "                time += 1\n",
        "                time_values[node] = (time_values[node][0], time)\n",
        "\n",
        "                call_stack_visited.remove(node)\n",
        "                return time\n",
        "\n",
        "            visited_nodes = set()\n",
        "            time = 0\n",
        "            for node in self._g.list_of_nodes():\n",
        "                if node not in visited_nodes:\n",
        "                    time = _dfs_visit_time(node, None, visited_nodes, time, set())\n",
        "\n",
        "\n",
        "\n",
        "            for node in self._dfs_order:\n",
        "                time_in_stack, time_out_stack = time_values[node]\n",
        "                label = \"<{}<BR /><FONT POINT-SIZE='10'>{}/{}</FONT>>\".format(node, time_in_stack, time_out_stack)\n",
        "                f.write(\"{}[label = {}]\\n\".format(node, label))\n",
        "\n",
        "            if not self._g.is_directed_graph():\n",
        "                f.write(\"edge [dir=none, color=red]\\n\")\n",
        "            else:\n",
        "                f.write(\"edge [color=red]\\n\")\n",
        "\n",
        "            visited_edges = []\n",
        "\n",
        "            for node in self._g.list_of_nodes():\n",
        "                fanouts = self._g.fanouts_of_node(node)\n",
        "\n",
        "                for fanout in fanouts:\n",
        "                    edge = str(node) + \" \" + str(fanout)\n",
        "                    reverse_edge = str(fanout) + \" \" + str(node) #to reverse the edge to find if it is present in the list\n",
        "\n",
        "                    if edge in visited_edges or reverse_edge in visited_edges:\n",
        "                        continue\n",
        "                    visited_edges.append(edge)\n",
        "\n",
        "                    edge_str = str(node) + \" \"\n",
        "\n",
        "\n",
        "                    if self._g.is_weighted_graph():\n",
        "                        weight = self._g.get_edge_weight(node, fanout)\n",
        "                        edge_str += \"-> \"\n",
        "                        edge_str += str(fanout) + \" [label = \" + str(weight) + \"]\\n\"\n",
        "                    else:\n",
        "                        edge_str += \"-> \"\n",
        "                        edge_str += str(fanout) + \"\\n\"\n",
        "\n",
        "                    f.write(edge_str)\n",
        "\n",
        "            f.write(\"}\\n\")\n",
        "\n",
        "\n",
        "\n",
        "    ##########################################################\n",
        "    # TIME: THETA(V + E)\n",
        "    # SPACE: O(Largest path) = O(V)\n",
        "    ##########################################################\n",
        "    def _dfs(self):\n",
        "        def _dfs_visit(node, parent, visited_nodes, time, call_stack_visited):\n",
        "              self._work[0] += 1\n",
        "\n",
        "              visited_nodes.add(node)\n",
        "              call_stack_visited.add(node)\n",
        "              time += 1\n",
        "              time_in_stack = time\n",
        "              for neighbor in self._g.fanouts_of_node(node):\n",
        "                  if neighbor != parent:\n",
        "                      if neighbor in call_stack_visited:\n",
        "                          self._has_loop[0] = True\n",
        "                      if neighbor not in visited_nodes:\n",
        "                          time = _dfs_visit(neighbor, node, visited_nodes, time, call_stack_visited)\n",
        "\n",
        "              time += 1\n",
        "              time_out_stack = time\n",
        "              self._dfs_order.append(node)\n",
        "\n",
        "              if time_out_stack - time_in_stack == 1 and not self._has_loop[0]:\n",
        "                  self._has_loop[0] = False\n",
        "\n",
        "              call_stack_visited.remove(node)\n",
        "              return time\n",
        "\n",
        "        visited_nodes = set()\n",
        "        time = 0\n",
        "\n",
        "\n",
        "        for node in self._g.list_of_nodes():\n",
        "            if node not in visited_nodes:\n",
        "                time = _dfs_visit(node, None, visited_nodes, time, set())\n",
        "\n",
        "        self._dfs_order.reverse()\n"
      ]
    },
    {
      "cell_type": "markdown",
      "metadata": {
        "id": "QiubEWZfiAEL"
      },
      "source": [
        "## NOTHING CAN BE CHANGED BELOW"
      ]
    },
    {
      "cell_type": "markdown",
      "metadata": {
        "id": "cqUbh44oiAEM"
      },
      "source": [
        "# Graph Data"
      ]
    },
    {
      "cell_type": "code",
      "execution_count": 20,
      "metadata": {
        "id": "V1R9Uvb4Xiz8"
      },
      "outputs": [],
      "source": [
        "###########################################################\n",
        "# Data.py\n",
        "# Author: Jagadeesh Vasudevamurthy\n",
        "# Copyright: Jagadeesh Vasudevamurthy 2023\n",
        "###########################################################\n",
        "\n",
        "############################################################\n",
        "# All imports\n",
        "###########################################################\n",
        "\n",
        "\n",
        "class Data:\n",
        "    def __init__(self, n: \"string\"):\n",
        "        self._name = n  ### _name is used as key for this object\n",
        "        self.age = 100  ## To show you can have anything,\n",
        "\n",
        "    def __hash__(self):\n",
        "        t = hash(self._name)\n",
        "        return t\n",
        "\n",
        "    def __eq__(self, other: \"Node\") -> \"bool\":\n",
        "        if not isinstance(other, type(self)):\n",
        "            assert False\n",
        "        return self._name == other._name\n",
        "\n",
        "    def __str__(self):\n",
        "        return self._name\n",
        "\n",
        "    def get_key(self) -> \"string\":\n",
        "        return self._name\n"
      ]
    },
    {
      "cell_type": "markdown",
      "metadata": {
        "id": "5v2v9t-xiAEM"
      },
      "source": [
        "## Graph Types"
      ]
    },
    {
      "cell_type": "code",
      "execution_count": 21,
      "metadata": {
        "id": "UBUliUUzXlNk"
      },
      "outputs": [],
      "source": [
        "class GraphType(enum.Enum):\n",
        "    NONE = 0\n",
        "    UNDIRECTED = 1\n",
        "    DIRECTED = 2\n",
        "    WEIGHTED_UNDIRECTED = 3\n",
        "    WEIGHTED_DIRECTED  = 4"
      ]
    },
    {
      "cell_type": "markdown",
      "metadata": {
        "id": "f0i3SnZliAEN"
      },
      "source": [
        "## Graph class"
      ]
    },
    {
      "cell_type": "code",
      "execution_count": 22,
      "metadata": {
        "id": "KfrSFHKuXnRy"
      },
      "outputs": [],
      "source": [
        "############################################################\n",
        "# Graph.py\n",
        "# Author: Jagadeesh Vasudevamurthy\n",
        "# Copyright: Jagadeesh Vasudevamurthy 20203\n",
        "###########################################################\n",
        "\n",
        "############################################################\n",
        "# NOTHING CAN BE CHANGED IN THIS FILE\n",
        "###########################################################\n",
        "\n",
        "############################################################\n",
        "# All imports\n",
        "###########################################################\n",
        "'''\n",
        "import networkx as nx  ##network nx graph\n",
        "from GraphType import *  ## #Otherwise, you cannot use GraphType\n",
        "from Data import *  ##User UDT\n",
        "from GraphBuilder import *\n",
        "from GraphDot import *\n",
        "from GraphShow import *\n",
        "from GraphDfs import *\n",
        "'''\n",
        "\n",
        "class Graph:\n",
        "    ##GRAPH DATA STRUCTURE\n",
        "    def __init__(self):\n",
        "        self._g = None  # networkx graph\n",
        "\n",
        "    ############################################################\n",
        "    # All Public routines. YOU SHOULD ONLY CALL THESE ROUTINES\n",
        "    ###########################################################\n",
        "    def is_directed_graph(self) -> \"bool\":\n",
        "        if self._g.is_directed():\n",
        "            return True\n",
        "        return False\n",
        "\n",
        "    def is_undirected_graph(self) -> \"bool\":\n",
        "        return not (self._g.is_directed_graph())\n",
        "\n",
        "    def is_weighted_graph(self) -> \"bool\":\n",
        "        return nx.is_weighted(self._g)\n",
        "\n",
        "    def get_graph_type(self) -> \"GraphType\":\n",
        "        weighted = self.is_weighted_graph()\n",
        "        if self.is_directed_graph():\n",
        "            if weighted:\n",
        "                return GraphType.WEIGHTED_DIRECTED\n",
        "            else:\n",
        "                return GraphType.DIRECTED\n",
        "        if weighted:\n",
        "            return GraphType.WEIGHTED_UNDIRECTED\n",
        "        return GraphType.UNDIRECTED\n",
        "\n",
        "    def get_graph_type_as_string(self) -> \"string\":\n",
        "        t = self.get_graph_type()\n",
        "        if t == GraphType.UNDIRECTED:\n",
        "            return \"UNDIRECTED GRAPH\"\n",
        "        if t == GraphType.DIRECTED:\n",
        "            return \"DIRECTED GRAPH\"\n",
        "        if t == GraphType.WEIGHTED_UNDIRECTED:\n",
        "            return \"WEIGHTED_UNDIRECTED GRAPH\"\n",
        "        if t == GraphType.WEIGHTED_DIRECTED:\n",
        "            return \"WEIGHTED_DIRECTED GRAPH\"\n",
        "        return \"NONE\"\n",
        "\n",
        "    def get_node_name(self, n: \"node\") -> \"string\":\n",
        "        return str(n)\n",
        "\n",
        "    def get_edge_weight(self, f: \"node1\", t: \"node2\") -> \"weight\":\n",
        "        w = 0\n",
        "        if self.is_weighted_graph():\n",
        "            w = self._g.edges[f, t][\"weight\"]\n",
        "        return w\n",
        "\n",
        "    def get_numV(self) -> \"int\":\n",
        "        l = self._g.number_of_nodes()\n",
        "        return l\n",
        "\n",
        "    def get_numE(self) -> \"int\":\n",
        "        l = self._g.number_of_edges()\n",
        "        return l\n",
        "\n",
        "    def fanouts_of_node(self, n: \"node\") -> \"list of nodes\":\n",
        "        if self.is_directed_graph():\n",
        "            a = list(self._g.successors(n))\n",
        "        else:\n",
        "            a = self._g.adj[n]\n",
        "        return a\n",
        "\n",
        "    def fanins_of_node(self, n: \"node\") -> \"list of nodes\":\n",
        "        assert self.is_directed_graph()\n",
        "        a = list(self._g.predecessors(n))\n",
        "        return a\n",
        "\n",
        "    def num_fanout(self, n: \"node\") -> \"int\":\n",
        "        a = self.fanouts_of_node(n)\n",
        "        s = len(a)\n",
        "        return s\n",
        "\n",
        "    def num_fanin(self, n: \"node\") -> \"int\":\n",
        "        a = self.fanins_of_node(n)\n",
        "        s = len(a)\n",
        "        return s\n",
        "\n",
        "    def list_of_nodes(self) -> \"list of nodes\":\n",
        "        l = list(self._g.nodes())\n",
        "        return l\n",
        "\n",
        "    def dump(self, name):\n",
        "        print(\"------------\", name, \"------------ \")\n",
        "        s = self.get_graph_type_as_string()\n",
        "        print(s)\n",
        "        print(\"Num Vertices =\", self.get_numV())\n",
        "        print(\"Num Edges    =\", self.get_numE())\n",
        "        nodes = self.list_of_nodes()\n",
        "        for n in nodes:\n",
        "            print(n, \"Fanouts: \", end=\"\")\n",
        "            fanouts_of_n = self.fanouts_of_node(n)\n",
        "            f = len(fanouts_of_n)\n",
        "            if f == 0:\n",
        "                print(\"NONE\")\n",
        "            else:\n",
        "                j = 0\n",
        "                for nf in fanouts_of_n:\n",
        "                    if j < f - 1:\n",
        "                        print(nf, \",\", sep=\"\", end=\"\")\n",
        "                    else:\n",
        "                        print(nf)\n",
        "                    j = j + 1\n",
        "            if self.is_directed_graph():\n",
        "                print(n, \"Fanins: \", end=\"\")\n",
        "                fanins_of_n = self.fanins_of_node(n)\n",
        "                f = len(fanins_of_n)\n",
        "                if f == 0:\n",
        "                    print(\"NONE\")\n",
        "                else:\n",
        "                    j = 0\n",
        "                    for nf in fanins_of_n:\n",
        "                        if j < f - 1:\n",
        "                            print(nf, \",\", sep=\"\", end=\"\")\n",
        "                        else:\n",
        "                            print(nf)\n",
        "                        j = j + 1\n",
        "\n",
        "    ##########################################################\n",
        "    # Nothing can be changed\n",
        "    # TIME: THETA(V + E)\n",
        "    # SPACE: THETA(V)\n",
        "    ##########################################################\n",
        "    def assert_dfs_passed(self, has_loop: \"bool\", dfs_order: \"list of nodes\"):\n",
        "        t = self.get_graph_type()\n",
        "        if (t == GraphType.UNDIRECTED) or (t == GraphType.WEIGHTED_UNDIRECTED):\n",
        "            return\n",
        "        if has_loop == False:\n",
        "            set_of_visited_nodes = set()\n",
        "            for n in dfs_order:\n",
        "                ## Go on fanins of node\n",
        "                fanins_of_n = self.fanins_of_node(n)\n",
        "                for nf in fanins_of_n:\n",
        "                    must_be_there = nf in set_of_visited_nodes  # find in THETA(1)\n",
        "                    assert must_be_there\n",
        "                set_of_visited_nodes.add(n)  # add in THETA(1)\n",
        "            # All nodes must be visited\n",
        "            assert len(set_of_visited_nodes) == self.get_numV()\n",
        "            print(\"DFS ASSERT PASSED\")\n",
        "\n",
        "    ############################################################\n",
        "    # All Private routines. YOU SHOULD NOT CALL THESE ROUTINES\n",
        "    ###########################################################\n",
        "\n",
        "    ############################################################\n",
        "    ## All the routines written by students\n",
        "    ##########################################################\n",
        "    def build_graph(self, f: \"file name\", d: \"bool\"):\n",
        "        b = GraphBuilder(self,f, d) # d True means directed. False means undirected\n",
        "        self._g = b._build_graph()\n",
        "\n",
        "    def write_dot(self, f):\n",
        "        b = GraphDot(self, f)\n",
        "\n",
        "    def show_dot_file(self, filename: \"string\"):\n",
        "        with open(filename) as f:\n",
        "            dot_graph = f.read()\n",
        "        return dot_graph\n",
        "\n",
        "    def dfs_using_time_stamp(\n",
        "        self,\n",
        "        gname: \"string\",\n",
        "        dfs_order: \"list of nodes\",\n",
        "        has_loop: \"List of size 1 Boolean\",\n",
        "        work: \"list of size 1\",\n",
        "        dfs_dot_output_file: \"Traversal file name\",\n",
        "    ):\n",
        "\n",
        "        b = GraphDfsUsingTimeStamp(\n",
        "            self, gname, dfs_order, has_loop, work, dfs_dot_output_file\n",
        "        )\n"
      ]
    },
    {
      "cell_type": "markdown",
      "metadata": {
        "id": "yR_fPVp9iAEO"
      },
      "source": [
        "## Graph Builder class"
      ]
    },
    {
      "cell_type": "code",
      "execution_count": 23,
      "metadata": {
        "id": "2zau0Y8OXpIP"
      },
      "outputs": [],
      "source": [
        "############################################################\n",
        "# GraphBuilder.py\n",
        "# Author: Jagadeesh Vasudevamurthy\n",
        "# Copyright: Jagadeesh Vasudevamurthy 2023\n",
        "###########################################################\n",
        "\n",
        "############################################################\n",
        "# YOU WRITE CODE IN THIS FILE\n",
        "###########################################################\n",
        "\n",
        "############################################################\n",
        "# All imports\n",
        "###########################################################\n",
        "#from GraphType import *  ## #Otherwise, you cannot use GraphType\n",
        "\n",
        "\n",
        "class GraphBuilder:\n",
        "    def __init__(self,g:'graph', f: \"string\", d: \"bool\"):\n",
        "        self._g = g ; #graph object\n",
        "        self._f = f  # File from which you are building graph\n",
        "        self._directed = d  # true means directed graph\n",
        "        self._g._g = self._build_graph()\n",
        "\n",
        "    ############################################################\n",
        "    # Write code: build_graph\n",
        "    # Use as many private functions and prvate data you want\n",
        "    ###########################################################\n",
        "    def _build_graph(self) -> \"graph\":\n",
        "        notReadline = 0\n",
        "        readline = 0\n",
        "        if self._directed:\n",
        "            g = nx.DiGraph()\n",
        "        else:\n",
        "            g = nx.Graph()\n",
        "        with open(self._f, \"r\") as file:\n",
        "            data = file.readlines()\n",
        "            for aline in data:\n",
        "                token = aline.split()\n",
        "                size = len(token)\n",
        "                if (size < 2) or (size > 3):\n",
        "                    notReadline = notReadline + 1\n",
        "                    print(\"NOT READ LINE\", aline)\n",
        "                    continue\n",
        "                readline = readline + 1\n",
        "                if size == 3:\n",
        "                    #  weighted graph\n",
        "                    #   Hard to debug\n",
        "                    #   g.add_edge('A', 'B', weight=3)\n",
        "                    g.add_edge(token[0], token[1], weight=token[2])\n",
        "                else:\n",
        "                    g.add_edge(token[0], token[1])\n",
        "        return g\n"
      ]
    },
    {
      "cell_type": "markdown",
      "metadata": {
        "id": "QaywTQATiAEP"
      },
      "source": [
        "# DFS TESTER"
      ]
    },
    {
      "cell_type": "code",
      "execution_count": 24,
      "metadata": {
        "id": "XPhFp5HqXtMj"
      },
      "outputs": [],
      "source": [
        "############################################################\n",
        "# GraphDfsTest.py\n",
        "# Author: Jagadeesh Vasudevamurthy\n",
        "# Copyright: Jagadeesh Vasudevamurthy 2023\n",
        "###########################################################\n",
        "\n",
        "############################################################\n",
        "# All imports\n",
        "###########################################################\n",
        "'''\n",
        "from GraphType import *  ## #Otherwise, you cannot use GraphType\n",
        "from Graph import *\n",
        "from Data import *  ##User UDT\n",
        "from GraphGlobal import *\n",
        "'''\n",
        "\n",
        "class GraphDfsTest:\n",
        "    def __init__(self):\n",
        "        self._show = False  # Change to True for debugging\n",
        "        # self._test_one()\n",
        "        self._test()\n",
        "\n",
        "    def _test1(self, gname: \"graphname\", directed: \"bool\", expected_has_loop: \"Bool\"):\n",
        "        full_name = inputFileBase + gname + \".txt\"\n",
        "\n",
        "        print(\"Building graph\", full_name)\n",
        "        g = Graph()\n",
        "        g.build_graph(full_name,directed)\n",
        "        if self._show:\n",
        "            g.dump(full_name)\n",
        "\n",
        "        dot_output_file = outputFileBase + gname + \".dot\"\n",
        "        g.write_dot(dot_output_file)\n",
        "\n",
        "        dfs_order = []  # Caller will Fill. List of Nodes\n",
        "        has_loop = [False]  # List of size 1\n",
        "        work = [0]  # List of size 1\n",
        "        dfs_dot_output_file = outputFileBase + gname + \"dfs.dot\"\n",
        "        g.dfs_using_time_stamp(gname, dfs_order, has_loop, work, dfs_dot_output_file)\n",
        "\n",
        "        print(\"DFS traversal is in\")\n",
        "        print(dfs_dot_output_file)\n",
        "\n",
        "        print(\"DFS ORDER: \", end=\" \")\n",
        "        for node in dfs_order:\n",
        "            p1 = g.get_node_name(node)\n",
        "            print(p1, end=\" \")\n",
        "        print()\n",
        "\n",
        "        if has_loop[0]:\n",
        "            print(\"LOOP\")\n",
        "        else:\n",
        "            print(\"NOLOOP\")\n",
        "        print(\"Work Done\", work[0])\n",
        "        assert has_loop[0] == expected_has_loop\n",
        "        g.assert_dfs_passed(has_loop[0],dfs_order)\n",
        "\n",
        "    def _test_one(self):\n",
        "        g = [\n",
        "            [\"1\", GraphType.UNDIRECTED, False],\n",
        "        ]\n",
        "\n",
        "        for g1 in g:\n",
        "            self._test1(g1[0], g1[1], g1[2])\n",
        "\n",
        "    def _test(self):\n",
        "        g = [\n",
        "            [\"u1\", False, False],\n",
        "            [\"1\", False, False],\n",
        "            [\"udf1\", True, True],\n",
        "            [\"2\", True, False],\n",
        "            [\"3\", True, True],\n",
        "            [\"cat\", True, False],\n",
        "            [\"7\", True, False],\n",
        "        ]\n",
        "\n",
        "        for g1 in g:\n",
        "            self._test1(g1[0], g1[1], g1[2])\n"
      ]
    },
    {
      "cell_type": "markdown",
      "metadata": {
        "id": "1n89eNmFiAEQ"
      },
      "source": [
        "# Graph Representation Tester"
      ]
    },
    {
      "cell_type": "code",
      "execution_count": 25,
      "metadata": {
        "id": "KAaiytjJXwWL"
      },
      "outputs": [],
      "source": [
        "############################################################\n",
        "# GraphRepresentationTest.py\n",
        "# Author: Jagadeesh Vasudevamurthy\n",
        "# Copyright: Jagadeesh Vasudevamurthy 2023\n",
        "###########################################################\n",
        "\n",
        "############################################################\n",
        "# All imports\n",
        "###########################################################\n",
        "#from GraphType import *  ## #Otherwise, you cannot use GraphType\n",
        "#from Graph import *\n",
        "\n",
        "\n",
        "class GraphRepresentationTest:\n",
        "    def __init__(self):\n",
        "        self._test()\n",
        "\n",
        "    def _u1(self):\n",
        "        name = \"13\"\n",
        "        f = inputFileBase + name + \".txt\"\n",
        "        g = Graph()\n",
        "        g.build_graph(f, False)\n",
        "        g.dump(name)\n",
        "        file = outputFileBase + name + \".dot\"\n",
        "        g.write_dot(file)\n",
        "        Source(read_dot_file(name))\n",
        "        assert g.get_numV() == 7\n",
        "        assert g.get_numE() == 12\n",
        "\n",
        "    def _uw1(self):\n",
        "        name = \"14\"\n",
        "        f = inputFileBase + name + \".txt\"\n",
        "        g = Graph()\n",
        "        g.build_graph(f, False)\n",
        "        g.dump(name)\n",
        "        file = outputFileBase + name + \".dot\"\n",
        "        g.write_dot(file)\n",
        "        Source(read_dot_file(name))\n",
        "        assert g.get_numV() == 6\n",
        "        assert g.get_numE() == 10\n",
        "\n",
        "    def _d1(self):\n",
        "        name = \"15\"\n",
        "        f = inputFileBase + name + \".txt\"\n",
        "        g = Graph()\n",
        "        g.build_graph(f, True)\n",
        "        g.dump(name)\n",
        "        file = outputFileBase + name + \".dot\"\n",
        "        g.write_dot(file)\n",
        "        Source(read_dot_file(name))\n",
        "        assert g.get_numV() == 6\n",
        "        assert g.get_numE() == 6\n",
        "\n",
        "    def _dw1(self):\n",
        "        name = \"16\"\n",
        "        f = inputFileBase + name + \".txt\"\n",
        "        g = Graph()\n",
        "        g.build_graph(f, True)\n",
        "        g.dump(name)\n",
        "        file = outputFileBase + name + \".dot\"\n",
        "        g.write_dot(file)\n",
        "        Source(read_dot_file(name))\n",
        "        assert g.get_numV() == 5\n",
        "        assert g.get_numE() == 6\n",
        "\n",
        "    def _DAG(self):\n",
        "        name = \"cat\"\n",
        "        f = inputFileBase + name + \".txt\"\n",
        "        g = Graph()\n",
        "        g.build_graph(f, True)\n",
        "        g.dump(name)\n",
        "        # g.show_graph()\n",
        "        file = outputFileBase + name + \".dot\"\n",
        "        g.write_dot(file)\n",
        "        Source(read_dot_file(name))\n",
        "        assert g.get_numV() == 6\n",
        "        assert g.get_numE() == 7\n",
        "\n",
        "    def _loop(self):\n",
        "        name = \"loopparallel\"\n",
        "        f = inputFileBase + name + \".txt\"\n",
        "        g = Graph()\n",
        "        g.build_graph(f, True)\n",
        "        g.dump(name)\n",
        "        # g.show_graph()\n",
        "        file = outputFileBase + name + \".dot\"\n",
        "        g.write_dot(file)\n",
        "        Source(read_dot_file(name))\n",
        "        #assert g.get_numV() == 6\n",
        "        #assert g.get_numE() == 7\n",
        "\n",
        "    def _test(self):\n",
        "        self._u1()\n",
        "        self._uw1()\n",
        "        self._d1()\n",
        "        self._dw1()\n",
        "        self._DAG()\n",
        "        self._loop()\n"
      ]
    },
    {
      "cell_type": "markdown",
      "metadata": {
        "id": "9cjHGOeviAER"
      },
      "source": [
        "# Graph tester"
      ]
    },
    {
      "cell_type": "code",
      "execution_count": 26,
      "metadata": {
        "id": "YB3rRNIpXx8U"
      },
      "outputs": [],
      "source": [
        "############################################################\n",
        "# GraphTest.py\n",
        "# Author: Jagadeesh Vasudevamurthy\n",
        "# Copyright: Jagadeesh Vasudevamurthy 2023\n",
        "###########################################################\n",
        "\n",
        "############################################################\n",
        "# All imports\n",
        "###########################################################\n",
        "'''\n",
        "import sys  # For getting Python Version\n",
        "import enum\n",
        "from GraphType import *  ## #Otherwise, you cannot use GraphType\n",
        "from Graph import *\n",
        "from GraphRepresentationTest import *\n",
        "from GraphDfsTest import *\n",
        "'''\n",
        "\n",
        "class GraphTest:\n",
        "    def __init__(self):\n",
        "        pass\n",
        "\n",
        "    def RepresentationTest(self):\n",
        "        t = GraphRepresentationTest()\n",
        "\n",
        "    def DFS(self):\n",
        "        t = GraphDfsTest()\n"
      ]
    },
    {
      "cell_type": "markdown",
      "metadata": {
        "id": "phs9zvNqiAER"
      },
      "source": [
        "# Main"
      ]
    },
    {
      "cell_type": "code",
      "execution_count": 27,
      "metadata": {
        "id": "ZSf2UXFMX1oO"
      },
      "outputs": [],
      "source": [
        "############################################################\n",
        "# main\n",
        "# YOU CANNOT CHANGE ANYTHING BELOW\n",
        "###########################################################\n",
        "def main():\n",
        "    print(sys.version)\n",
        "    t = GraphTest()\n",
        "    a = [0, 1]\n",
        "    if a[0]:\n",
        "        t.RepresentationTest()\n",
        "        print(\"test_graph_representation Passed\")\n",
        "    if a[1]:\n",
        "        t.DFS()\n",
        "        print(\"DFS Passed\")"
      ]
    },
    {
      "cell_type": "markdown",
      "metadata": {
        "id": "KE-wb-NoiAER"
      },
      "source": [
        "# call Main"
      ]
    },
    {
      "cell_type": "code",
      "execution_count": 28,
      "metadata": {
        "colab": {
          "base_uri": "https://localhost:8080/"
        },
        "id": "VJejVjjsX3No",
        "outputId": "e46662c0-fe38-4a5f-9245-2f3f87fea1b4"
      },
      "outputs": [
        {
          "output_type": "stream",
          "name": "stdout",
          "text": [
            "3.10.12 (main, Jun 11 2023, 05:26:28) [GCC 11.4.0]\n",
            "Building graph /graphdata/u1.txt\n",
            "DFS traversal is in\n",
            "/dot/u1dfs.dot\n",
            "DFS ORDER:  0 1 \n",
            "NOLOOP\n",
            "Work Done 2\n",
            "Building graph /graphdata/1.txt\n",
            "DFS traversal is in\n",
            "/dot/1dfs.dot\n",
            "DFS ORDER:  1 3 5 4 2 \n",
            "NOLOOP\n",
            "Work Done 5\n",
            "Building graph /graphdata/udf1.txt\n",
            "NOT READ LINE \n",
            "\n",
            "NOT READ LINE \n",
            "\n",
            "DFS traversal is in\n",
            "/dot/udf1dfs.dot\n",
            "DFS ORDER:  0 1 3 5 4 2 \n",
            "LOOP\n",
            "Work Done 6\n",
            "Building graph /graphdata/2.txt\n",
            "DFS traversal is in\n",
            "/dot/2dfs.dot\n",
            "DFS ORDER:  1 3 2 4 5 \n",
            "NOLOOP\n",
            "Work Done 5\n",
            "DFS ASSERT PASSED\n",
            "Building graph /graphdata/3.txt\n",
            "DFS traversal is in\n",
            "/dot/3dfs.dot\n",
            "DFS ORDER:  0 1 3 4 2 \n",
            "LOOP\n",
            "Work Done 5\n",
            "Building graph /graphdata/cat.txt\n",
            "NOT READ LINE \n",
            "\n",
            "NOT READ LINE \n",
            "\n",
            "DFS traversal is in\n",
            "/dot/catdfs.dot\n",
            "DFS ORDER:  Cab Cat Mat Car Bar Bat \n",
            "NOLOOP\n",
            "Work Done 6\n",
            "DFS ASSERT PASSED\n",
            "Building graph /graphdata/7.txt\n",
            "NOT READ LINE  \n",
            "NOT READ LINE  \n",
            "DFS traversal is in\n",
            "/dot/7dfs.dot\n",
            "DFS ORDER:  0 3 1 2 4 5 6 \n",
            "NOLOOP\n",
            "Work Done 7\n",
            "DFS ASSERT PASSED\n",
            "DFS Passed\n"
          ]
        }
      ],
      "source": [
        "############################################################\n",
        "# start up\n",
        "###########################################################\n",
        "if (__name__  == '__main__'):\n",
        "      main()"
      ]
    },
    {
      "cell_type": "markdown",
      "metadata": {
        "id": "pv6dXwEyiAES"
      },
      "source": [
        "# DFS TRAVERSAL"
      ]
    },
    {
      "cell_type": "code",
      "execution_count": 29,
      "metadata": {
        "colab": {
          "base_uri": "https://localhost:8080/",
          "height": 388
        },
        "id": "u3dcblBZYACy",
        "outputId": "da9257ae-8a98-42b8-aeff-770b1ecee717"
      },
      "outputs": [
        {
          "output_type": "stream",
          "name": "stdout",
          "text": [
            "/dot/u1dfs.dot\n",
            "digraph g {\n",
            "label = \"[0 1 ] NOLOOP\"\n",
            "0[label = <0<BR /><FONT POINT-SIZE='10'>1/4</FONT>>]\n",
            "1[label = <1<BR /><FONT POINT-SIZE='10'>2/3</FONT>>]\n",
            "edge [dir=none, color=red]\n",
            "0 -> 1\n",
            "}\n",
            "\n"
          ]
        },
        {
          "output_type": "execute_result",
          "data": {
            "image/svg+xml": "<?xml version=\"1.0\" encoding=\"UTF-8\" standalone=\"no\"?>\n<!DOCTYPE svg PUBLIC \"-//W3C//DTD SVG 1.1//EN\"\n \"http://www.w3.org/Graphics/SVG/1.1/DTD/svg11.dtd\">\n<!-- Generated by graphviz version 2.43.0 (0)\n -->\n<!-- Title: g Pages: 1 -->\n<svg width=\"113pt\" height=\"158pt\"\n viewBox=\"0.00 0.00 113.00 157.51\" xmlns=\"http://www.w3.org/2000/svg\" xmlns:xlink=\"http://www.w3.org/1999/xlink\">\n<g id=\"graph0\" class=\"graph\" transform=\"scale(1 1) rotate(0) translate(4 153.51)\">\n<title>g</title>\n<polygon fill=\"white\" stroke=\"transparent\" points=\"-4,4 -4,-153.51 109,-153.51 109,4 -4,4\"/>\n<text text-anchor=\"middle\" x=\"52.5\" y=\"-7.8\" font-family=\"Times,serif\" font-size=\"14.00\">[0 1 ] NOLOOP</text>\n<!-- 0 -->\n<g id=\"node1\" class=\"node\">\n<title>0</title>\n<ellipse fill=\"none\" stroke=\"black\" cx=\"52.5\" cy=\"-126.88\" rx=\"27\" ry=\"22.76\"/>\n<text text-anchor=\"start\" x=\"49\" y=\"-128.68\" font-family=\"Times,serif\" font-size=\"14.00\">0</text>\n<text text-anchor=\"start\" x=\"45.5\" y=\"-117.88\" font-family=\"Times,serif\" font-size=\"10.00\">1/4</text>\n</g>\n<!-- 1 -->\n<g id=\"node2\" class=\"node\">\n<title>1</title>\n<ellipse fill=\"none\" stroke=\"black\" cx=\"52.5\" cy=\"-45.63\" rx=\"27\" ry=\"22.76\"/>\n<text text-anchor=\"start\" x=\"49\" y=\"-47.43\" font-family=\"Times,serif\" font-size=\"14.00\">1</text>\n<text text-anchor=\"start\" x=\"45.5\" y=\"-36.63\" font-family=\"Times,serif\" font-size=\"10.00\">2/3</text>\n</g>\n<!-- 0&#45;&gt;1 -->\n<g id=\"edge1\" class=\"edge\">\n<title>0&#45;&gt;1</title>\n<path fill=\"none\" stroke=\"red\" d=\"M52.5,-104.23C52.5,-93.04 52.5,-79.44 52.5,-68.26\"/>\n</g>\n</g>\n</svg>\n",
            "text/plain": [
              "<graphviz.sources.Source at 0x787c335bd1e0>"
            ]
          },
          "metadata": {},
          "execution_count": 29
        }
      ],
      "source": [
        "Source(read_dot_file(\"u1dfs\"))"
      ]
    },
    {
      "cell_type": "code",
      "execution_count": 30,
      "metadata": {
        "colab": {
          "base_uri": "https://localhost:8080/",
          "height": 600
        },
        "id": "6MSt0RKXYI6m",
        "outputId": "18317add-3837-4a97-b6f9-b22202cc873c"
      },
      "outputs": [
        {
          "output_type": "stream",
          "name": "stdout",
          "text": [
            "/dot/1dfs.dot\n",
            "digraph g {\n",
            "label = \"[1 3 5 4 2 ] NOLOOP\"\n",
            "1[label = <1<BR /><FONT POINT-SIZE='10'>1/10</FONT>>]\n",
            "3[label = <3<BR /><FONT POINT-SIZE='10'>4/9</FONT>>]\n",
            "5[label = <5<BR /><FONT POINT-SIZE='10'>7/8</FONT>>]\n",
            "4[label = <4<BR /><FONT POINT-SIZE='10'>5/6</FONT>>]\n",
            "2[label = <2<BR /><FONT POINT-SIZE='10'>2/3</FONT>>]\n",
            "edge [dir=none, color=red]\n",
            "1 -> 2\n",
            "1 -> 3\n",
            "3 -> 4\n",
            "3 -> 5\n",
            "}\n",
            "\n"
          ]
        },
        {
          "output_type": "execute_result",
          "data": {
            "image/svg+xml": "<?xml version=\"1.0\" encoding=\"UTF-8\" standalone=\"no\"?>\n<!DOCTYPE svg PUBLIC \"-//W3C//DTD SVG 1.1//EN\"\n \"http://www.w3.org/Graphics/SVG/1.1/DTD/svg11.dtd\">\n<!-- Generated by graphviz version 2.43.0 (0)\n -->\n<!-- Title: g Pages: 1 -->\n<svg width=\"170pt\" height=\"239pt\"\n viewBox=\"0.00 0.00 170.00 238.76\" xmlns=\"http://www.w3.org/2000/svg\" xmlns:xlink=\"http://www.w3.org/1999/xlink\">\n<g id=\"graph0\" class=\"graph\" transform=\"scale(1 1) rotate(0) translate(4 234.76)\">\n<title>g</title>\n<polygon fill=\"white\" stroke=\"transparent\" points=\"-4,4 -4,-234.76 166,-234.76 166,4 -4,4\"/>\n<text text-anchor=\"middle\" x=\"81\" y=\"-7.8\" font-family=\"Times,serif\" font-size=\"14.00\">[1 3 5 4 2 ] NOLOOP</text>\n<!-- 1 -->\n<g id=\"node1\" class=\"node\">\n<title>1</title>\n<ellipse fill=\"none\" stroke=\"black\" cx=\"99\" cy=\"-208.14\" rx=\"27\" ry=\"22.76\"/>\n<text text-anchor=\"start\" x=\"95.5\" y=\"-209.94\" font-family=\"Times,serif\" font-size=\"14.00\">1</text>\n<text text-anchor=\"start\" x=\"89.5\" y=\"-199.14\" font-family=\"Times,serif\" font-size=\"10.00\">1/10</text>\n</g>\n<!-- 3 -->\n<g id=\"node2\" class=\"node\">\n<title>3</title>\n<ellipse fill=\"none\" stroke=\"black\" cx=\"63\" cy=\"-126.88\" rx=\"27\" ry=\"22.76\"/>\n<text text-anchor=\"start\" x=\"59.5\" y=\"-128.68\" font-family=\"Times,serif\" font-size=\"14.00\">3</text>\n<text text-anchor=\"start\" x=\"56\" y=\"-117.88\" font-family=\"Times,serif\" font-size=\"10.00\">4/9</text>\n</g>\n<!-- 1&#45;&gt;3 -->\n<g id=\"edge2\" class=\"edge\">\n<title>1&#45;&gt;3</title>\n<path fill=\"none\" stroke=\"red\" d=\"M89.73,-186.73C84.35,-174.89 77.61,-160.04 72.24,-148.22\"/>\n</g>\n<!-- 2 -->\n<g id=\"node5\" class=\"node\">\n<title>2</title>\n<ellipse fill=\"none\" stroke=\"black\" cx=\"135\" cy=\"-126.88\" rx=\"27\" ry=\"22.76\"/>\n<text text-anchor=\"start\" x=\"131.5\" y=\"-128.68\" font-family=\"Times,serif\" font-size=\"14.00\">2</text>\n<text text-anchor=\"start\" x=\"128\" y=\"-117.88\" font-family=\"Times,serif\" font-size=\"10.00\">2/3</text>\n</g>\n<!-- 1&#45;&gt;2 -->\n<g id=\"edge1\" class=\"edge\">\n<title>1&#45;&gt;2</title>\n<path fill=\"none\" stroke=\"red\" d=\"M108.27,-186.73C113.65,-174.89 120.39,-160.04 125.76,-148.22\"/>\n</g>\n<!-- 5 -->\n<g id=\"node3\" class=\"node\">\n<title>5</title>\n<ellipse fill=\"none\" stroke=\"black\" cx=\"27\" cy=\"-45.63\" rx=\"27\" ry=\"22.76\"/>\n<text text-anchor=\"start\" x=\"23.5\" y=\"-47.43\" font-family=\"Times,serif\" font-size=\"14.00\">5</text>\n<text text-anchor=\"start\" x=\"20\" y=\"-36.63\" font-family=\"Times,serif\" font-size=\"10.00\">7/8</text>\n</g>\n<!-- 3&#45;&gt;5 -->\n<g id=\"edge4\" class=\"edge\">\n<title>3&#45;&gt;5</title>\n<path fill=\"none\" stroke=\"red\" d=\"M53.73,-105.47C48.35,-93.64 41.61,-78.79 36.24,-66.97\"/>\n</g>\n<!-- 4 -->\n<g id=\"node4\" class=\"node\">\n<title>4</title>\n<ellipse fill=\"none\" stroke=\"black\" cx=\"99\" cy=\"-45.63\" rx=\"27\" ry=\"22.76\"/>\n<text text-anchor=\"start\" x=\"95.5\" y=\"-47.43\" font-family=\"Times,serif\" font-size=\"14.00\">4</text>\n<text text-anchor=\"start\" x=\"92\" y=\"-36.63\" font-family=\"Times,serif\" font-size=\"10.00\">5/6</text>\n</g>\n<!-- 3&#45;&gt;4 -->\n<g id=\"edge3\" class=\"edge\">\n<title>3&#45;&gt;4</title>\n<path fill=\"none\" stroke=\"red\" d=\"M72.27,-105.47C77.65,-93.64 84.39,-78.79 89.76,-66.97\"/>\n</g>\n</g>\n</svg>\n",
            "text/plain": [
              "<graphviz.sources.Source at 0x787c335bcdf0>"
            ]
          },
          "metadata": {},
          "execution_count": 30
        }
      ],
      "source": [
        "Source(read_dot_file(\"1dfs\"))"
      ]
    },
    {
      "cell_type": "code",
      "execution_count": 31,
      "metadata": {
        "colab": {
          "base_uri": "https://localhost:8080/",
          "height": 995
        },
        "id": "24GKuZqtYLDq",
        "outputId": "65bc1534-c687-46bb-cf2a-cbc054c5e1dd"
      },
      "outputs": [
        {
          "output_type": "stream",
          "name": "stdout",
          "text": [
            "/dot/udf1dfs.dot\n",
            "digraph g {\n",
            "label = \"[0 1 3 5 4 2 ] LOOP\"\n",
            "0[label = <0<BR /><FONT POINT-SIZE='10'>1/12</FONT>>]\n",
            "1[label = <1<BR /><FONT POINT-SIZE='10'>2/11</FONT>>]\n",
            "3[label = <3<BR /><FONT POINT-SIZE='10'>3/10</FONT>>]\n",
            "5[label = <5<BR /><FONT POINT-SIZE='10'>4/9</FONT>>]\n",
            "4[label = <4<BR /><FONT POINT-SIZE='10'>5/8</FONT>>]\n",
            "2[label = <2<BR /><FONT POINT-SIZE='10'>6/7</FONT>>]\n",
            "edge [color=red]\n",
            "0 -> 1\n",
            "1 -> 3\n",
            "3 -> 5\n",
            "3 -> 2\n",
            "5 -> 4\n",
            "4 -> 2\n",
            "2 -> 0\n",
            "}\n",
            "\n"
          ]
        },
        {
          "output_type": "execute_result",
          "data": {
            "image/svg+xml": "<?xml version=\"1.0\" encoding=\"UTF-8\" standalone=\"no\"?>\n<!DOCTYPE svg PUBLIC \"-//W3C//DTD SVG 1.1//EN\"\n \"http://www.w3.org/Graphics/SVG/1.1/DTD/svg11.dtd\">\n<!-- Generated by graphviz version 2.43.0 (0)\n -->\n<!-- Title: g Pages: 1 -->\n<svg width=\"136pt\" height=\"483pt\"\n viewBox=\"0.00 0.00 136.00 482.53\" xmlns=\"http://www.w3.org/2000/svg\" xmlns:xlink=\"http://www.w3.org/1999/xlink\">\n<g id=\"graph0\" class=\"graph\" transform=\"scale(1 1) rotate(0) translate(4 478.53)\">\n<title>g</title>\n<polygon fill=\"white\" stroke=\"transparent\" points=\"-4,4 -4,-478.53 132,-478.53 132,4 -4,4\"/>\n<text text-anchor=\"middle\" x=\"64\" y=\"-7.8\" font-family=\"Times,serif\" font-size=\"14.00\">[0 1 3 5 4 2 ] LOOP</text>\n<!-- 0 -->\n<g id=\"node1\" class=\"node\">\n<title>0</title>\n<ellipse fill=\"none\" stroke=\"black\" cx=\"96\" cy=\"-451.9\" rx=\"27\" ry=\"22.76\"/>\n<text text-anchor=\"start\" x=\"92.5\" y=\"-453.7\" font-family=\"Times,serif\" font-size=\"14.00\">0</text>\n<text text-anchor=\"start\" x=\"86.5\" y=\"-442.9\" font-family=\"Times,serif\" font-size=\"10.00\">1/12</text>\n</g>\n<!-- 1 -->\n<g id=\"node2\" class=\"node\">\n<title>1</title>\n<ellipse fill=\"none\" stroke=\"black\" cx=\"69\" cy=\"-370.65\" rx=\"27\" ry=\"22.76\"/>\n<text text-anchor=\"start\" x=\"65.5\" y=\"-372.45\" font-family=\"Times,serif\" font-size=\"14.00\">1</text>\n<text text-anchor=\"start\" x=\"59.5\" y=\"-361.65\" font-family=\"Times,serif\" font-size=\"10.00\">2/11</text>\n</g>\n<!-- 0&#45;&gt;1 -->\n<g id=\"edge1\" class=\"edge\">\n<title>0&#45;&gt;1</title>\n<path fill=\"none\" stroke=\"red\" d=\"M88.76,-429.66C85.9,-421.24 82.54,-411.4 79.42,-402.24\"/>\n<polygon fill=\"red\" stroke=\"red\" points=\"82.7,-401.01 76.16,-392.67 76.07,-403.26 82.7,-401.01\"/>\n</g>\n<!-- 3 -->\n<g id=\"node3\" class=\"node\">\n<title>3</title>\n<ellipse fill=\"none\" stroke=\"black\" cx=\"69\" cy=\"-289.39\" rx=\"27\" ry=\"22.76\"/>\n<text text-anchor=\"start\" x=\"65.5\" y=\"-291.19\" font-family=\"Times,serif\" font-size=\"14.00\">3</text>\n<text text-anchor=\"start\" x=\"59.5\" y=\"-280.39\" font-family=\"Times,serif\" font-size=\"10.00\">3/10</text>\n</g>\n<!-- 1&#45;&gt;3 -->\n<g id=\"edge2\" class=\"edge\">\n<title>1&#45;&gt;3</title>\n<path fill=\"none\" stroke=\"red\" d=\"M69,-347.99C69,-340.04 69,-330.86 69,-322.21\"/>\n<polygon fill=\"red\" stroke=\"red\" points=\"72.5,-322.02 69,-312.02 65.5,-322.02 72.5,-322.02\"/>\n</g>\n<!-- 5 -->\n<g id=\"node4\" class=\"node\">\n<title>5</title>\n<ellipse fill=\"none\" stroke=\"black\" cx=\"31\" cy=\"-208.14\" rx=\"27\" ry=\"22.76\"/>\n<text text-anchor=\"start\" x=\"27.5\" y=\"-209.94\" font-family=\"Times,serif\" font-size=\"14.00\">5</text>\n<text text-anchor=\"start\" x=\"24\" y=\"-199.14\" font-family=\"Times,serif\" font-size=\"10.00\">4/9</text>\n</g>\n<!-- 3&#45;&gt;5 -->\n<g id=\"edge3\" class=\"edge\">\n<title>3&#45;&gt;5</title>\n<path fill=\"none\" stroke=\"red\" d=\"M59.21,-267.98C54.91,-259.01 49.78,-248.32 45.09,-238.51\"/>\n<polygon fill=\"red\" stroke=\"red\" points=\"48.23,-236.98 40.75,-229.48 41.92,-240.01 48.23,-236.98\"/>\n</g>\n<!-- 2 -->\n<g id=\"node6\" class=\"node\">\n<title>2</title>\n<ellipse fill=\"none\" stroke=\"black\" cx=\"86\" cy=\"-45.63\" rx=\"27\" ry=\"22.76\"/>\n<text text-anchor=\"start\" x=\"82.5\" y=\"-47.43\" font-family=\"Times,serif\" font-size=\"14.00\">2</text>\n<text text-anchor=\"start\" x=\"79\" y=\"-36.63\" font-family=\"Times,serif\" font-size=\"10.00\">6/7</text>\n</g>\n<!-- 3&#45;&gt;2 -->\n<g id=\"edge4\" class=\"edge\">\n<title>3&#45;&gt;2</title>\n<path fill=\"none\" stroke=\"red\" d=\"M70.54,-266.51C73.55,-223.63 80.25,-128.38 83.76,-78.49\"/>\n<polygon fill=\"red\" stroke=\"red\" points=\"87.27,-78.51 84.48,-68.29 80.28,-78.02 87.27,-78.51\"/>\n</g>\n<!-- 4 -->\n<g id=\"node5\" class=\"node\">\n<title>4</title>\n<ellipse fill=\"none\" stroke=\"black\" cx=\"31\" cy=\"-126.88\" rx=\"27\" ry=\"22.76\"/>\n<text text-anchor=\"start\" x=\"27.5\" y=\"-128.68\" font-family=\"Times,serif\" font-size=\"14.00\">4</text>\n<text text-anchor=\"start\" x=\"24\" y=\"-117.88\" font-family=\"Times,serif\" font-size=\"10.00\">5/8</text>\n</g>\n<!-- 5&#45;&gt;4 -->\n<g id=\"edge5\" class=\"edge\">\n<title>5&#45;&gt;4</title>\n<path fill=\"none\" stroke=\"red\" d=\"M31,-185.48C31,-177.53 31,-168.36 31,-159.7\"/>\n<polygon fill=\"red\" stroke=\"red\" points=\"34.5,-159.51 31,-149.51 27.5,-159.51 34.5,-159.51\"/>\n</g>\n<!-- 4&#45;&gt;2 -->\n<g id=\"edge6\" class=\"edge\">\n<title>4&#45;&gt;2</title>\n<path fill=\"none\" stroke=\"red\" d=\"M44.31,-106.7C51.14,-96.86 59.57,-84.72 67.05,-73.93\"/>\n<polygon fill=\"red\" stroke=\"red\" points=\"69.98,-75.85 72.81,-65.64 64.23,-71.86 69.98,-75.85\"/>\n</g>\n<!-- 2&#45;&gt;0 -->\n<g id=\"edge7\" class=\"edge\">\n<title>2&#45;&gt;0</title>\n<path fill=\"none\" stroke=\"red\" d=\"M94.15,-67.29C105.32,-97.5 124,-155.73 124,-207.14 124,-290.39 124,-290.39 124,-290.39 124,-336.08 112.85,-388.01 104.63,-420.12\"/>\n<polygon fill=\"red\" stroke=\"red\" points=\"101.24,-419.25 102.08,-429.82 108,-421.04 101.24,-419.25\"/>\n</g>\n</g>\n</svg>\n",
            "text/plain": [
              "<graphviz.sources.Source at 0x787c335bed10>"
            ]
          },
          "metadata": {},
          "execution_count": 31
        }
      ],
      "source": [
        "Source(read_dot_file(\"udf1dfs\"))"
      ]
    },
    {
      "cell_type": "code",
      "execution_count": 32,
      "metadata": {
        "colab": {
          "base_uri": "https://localhost:8080/",
          "height": 725
        },
        "id": "LSYfP_EQYN3f",
        "outputId": "28b83e70-0cf3-4534-d087-d1a495bb6d2c"
      },
      "outputs": [
        {
          "output_type": "stream",
          "name": "stdout",
          "text": [
            "/dot/2dfs.dot\n",
            "digraph g {\n",
            "label = \"[1 3 2 4 5 ] NOLOOP\"\n",
            "1[label = <1<BR /><FONT POINT-SIZE='10'>1/10</FONT>>]\n",
            "3[label = <3<BR /><FONT POINT-SIZE='10'>8/9</FONT>>]\n",
            "2[label = <2<BR /><FONT POINT-SIZE='10'>2/7</FONT>>]\n",
            "4[label = <4<BR /><FONT POINT-SIZE='10'>3/6</FONT>>]\n",
            "5[label = <5<BR /><FONT POINT-SIZE='10'>4/5</FONT>>]\n",
            "edge [color=red]\n",
            "1 -> 2\n",
            "1 -> 3\n",
            "2 -> 4\n",
            "3 -> 4\n",
            "4 -> 5\n",
            "}\n",
            "\n"
          ]
        },
        {
          "output_type": "execute_result",
          "data": {
            "image/svg+xml": "<?xml version=\"1.0\" encoding=\"UTF-8\" standalone=\"no\"?>\n<!DOCTYPE svg PUBLIC \"-//W3C//DTD SVG 1.1//EN\"\n \"http://www.w3.org/Graphics/SVG/1.1/DTD/svg11.dtd\">\n<!-- Generated by graphviz version 2.43.0 (0)\n -->\n<!-- Title: g Pages: 1 -->\n<svg width=\"145pt\" height=\"320pt\"\n viewBox=\"0.00 0.00 145.00 320.02\" xmlns=\"http://www.w3.org/2000/svg\" xmlns:xlink=\"http://www.w3.org/1999/xlink\">\n<g id=\"graph0\" class=\"graph\" transform=\"scale(1 1) rotate(0) translate(4 316.02)\">\n<title>g</title>\n<polygon fill=\"white\" stroke=\"transparent\" points=\"-4,4 -4,-316.02 141,-316.02 141,4 -4,4\"/>\n<text text-anchor=\"middle\" x=\"68.5\" y=\"-7.8\" font-family=\"Times,serif\" font-size=\"14.00\">[1 3 2 4 5 ] NOLOOP</text>\n<!-- 1 -->\n<g id=\"node1\" class=\"node\">\n<title>1</title>\n<ellipse fill=\"none\" stroke=\"black\" cx=\"68.5\" cy=\"-289.39\" rx=\"27\" ry=\"22.76\"/>\n<text text-anchor=\"start\" x=\"65\" y=\"-291.19\" font-family=\"Times,serif\" font-size=\"14.00\">1</text>\n<text text-anchor=\"start\" x=\"59\" y=\"-280.39\" font-family=\"Times,serif\" font-size=\"10.00\">1/10</text>\n</g>\n<!-- 3 -->\n<g id=\"node2\" class=\"node\">\n<title>3</title>\n<ellipse fill=\"none\" stroke=\"black\" cx=\"32.5\" cy=\"-208.14\" rx=\"27\" ry=\"22.76\"/>\n<text text-anchor=\"start\" x=\"29\" y=\"-209.94\" font-family=\"Times,serif\" font-size=\"14.00\">3</text>\n<text text-anchor=\"start\" x=\"25.5\" y=\"-199.14\" font-family=\"Times,serif\" font-size=\"10.00\">8/9</text>\n</g>\n<!-- 1&#45;&gt;3 -->\n<g id=\"edge2\" class=\"edge\">\n<title>1&#45;&gt;3</title>\n<path fill=\"none\" stroke=\"red\" d=\"M59.23,-267.98C55.2,-259.11 50.4,-248.54 45.98,-238.82\"/>\n<polygon fill=\"red\" stroke=\"red\" points=\"49.06,-237.14 41.74,-229.48 42.69,-240.03 49.06,-237.14\"/>\n</g>\n<!-- 2 -->\n<g id=\"node3\" class=\"node\">\n<title>2</title>\n<ellipse fill=\"none\" stroke=\"black\" cx=\"104.5\" cy=\"-208.14\" rx=\"27\" ry=\"22.76\"/>\n<text text-anchor=\"start\" x=\"101\" y=\"-209.94\" font-family=\"Times,serif\" font-size=\"14.00\">2</text>\n<text text-anchor=\"start\" x=\"97.5\" y=\"-199.14\" font-family=\"Times,serif\" font-size=\"10.00\">2/7</text>\n</g>\n<!-- 1&#45;&gt;2 -->\n<g id=\"edge1\" class=\"edge\">\n<title>1&#45;&gt;2</title>\n<path fill=\"none\" stroke=\"red\" d=\"M77.77,-267.98C81.8,-259.11 86.6,-248.54 91.02,-238.82\"/>\n<polygon fill=\"red\" stroke=\"red\" points=\"94.31,-240.03 95.26,-229.48 87.94,-237.14 94.31,-240.03\"/>\n</g>\n<!-- 4 -->\n<g id=\"node4\" class=\"node\">\n<title>4</title>\n<ellipse fill=\"none\" stroke=\"black\" cx=\"68.5\" cy=\"-126.88\" rx=\"27\" ry=\"22.76\"/>\n<text text-anchor=\"start\" x=\"65\" y=\"-128.68\" font-family=\"Times,serif\" font-size=\"14.00\">4</text>\n<text text-anchor=\"start\" x=\"61.5\" y=\"-117.88\" font-family=\"Times,serif\" font-size=\"10.00\">3/6</text>\n</g>\n<!-- 3&#45;&gt;4 -->\n<g id=\"edge4\" class=\"edge\">\n<title>3&#45;&gt;4</title>\n<path fill=\"none\" stroke=\"red\" d=\"M41.77,-186.73C45.8,-177.85 50.6,-167.28 55.02,-157.56\"/>\n<polygon fill=\"red\" stroke=\"red\" points=\"58.31,-158.78 59.26,-148.22 51.94,-155.88 58.31,-158.78\"/>\n</g>\n<!-- 2&#45;&gt;4 -->\n<g id=\"edge3\" class=\"edge\">\n<title>2&#45;&gt;4</title>\n<path fill=\"none\" stroke=\"red\" d=\"M95.23,-186.73C91.2,-177.85 86.4,-167.28 81.98,-157.56\"/>\n<polygon fill=\"red\" stroke=\"red\" points=\"85.06,-155.88 77.74,-148.22 78.69,-158.78 85.06,-155.88\"/>\n</g>\n<!-- 5 -->\n<g id=\"node5\" class=\"node\">\n<title>5</title>\n<ellipse fill=\"none\" stroke=\"black\" cx=\"68.5\" cy=\"-45.63\" rx=\"27\" ry=\"22.76\"/>\n<text text-anchor=\"start\" x=\"65\" y=\"-47.43\" font-family=\"Times,serif\" font-size=\"14.00\">5</text>\n<text text-anchor=\"start\" x=\"61.5\" y=\"-36.63\" font-family=\"Times,serif\" font-size=\"10.00\">4/5</text>\n</g>\n<!-- 4&#45;&gt;5 -->\n<g id=\"edge5\" class=\"edge\">\n<title>4&#45;&gt;5</title>\n<path fill=\"none\" stroke=\"red\" d=\"M68.5,-104.23C68.5,-96.28 68.5,-87.1 68.5,-78.44\"/>\n<polygon fill=\"red\" stroke=\"red\" points=\"72,-78.26 68.5,-68.26 65,-78.26 72,-78.26\"/>\n</g>\n</g>\n</svg>\n",
            "text/plain": [
              "<graphviz.sources.Source at 0x787c335be0e0>"
            ]
          },
          "metadata": {},
          "execution_count": 32
        }
      ],
      "source": [
        "Source(read_dot_file(\"2dfs\"))"
      ]
    },
    {
      "cell_type": "code",
      "execution_count": 33,
      "metadata": {
        "colab": {
          "base_uri": "https://localhost:8080/",
          "height": 851
        },
        "id": "oEWac0azYQEi",
        "outputId": "0f85b649-0652-40f1-b577-48a767576af0"
      },
      "outputs": [
        {
          "output_type": "stream",
          "name": "stdout",
          "text": [
            "/dot/3dfs.dot\n",
            "digraph g {\n",
            "label = \"[0 1 3 4 2 ] LOOP\"\n",
            "0[label = <0<BR /><FONT POINT-SIZE='10'>1/10</FONT>>]\n",
            "1[label = <1<BR /><FONT POINT-SIZE='10'>2/9</FONT>>]\n",
            "3[label = <3<BR /><FONT POINT-SIZE='10'>3/8</FONT>>]\n",
            "4[label = <4<BR /><FONT POINT-SIZE='10'>4/7</FONT>>]\n",
            "2[label = <2<BR /><FONT POINT-SIZE='10'>5/6</FONT>>]\n",
            "edge [color=red]\n",
            "0 -> 1\n",
            "0 -> 2\n",
            "1 -> 3\n",
            "2 -> 3\n",
            "3 -> 4\n",
            "4 -> 2\n",
            "}\n",
            "\n"
          ]
        },
        {
          "output_type": "execute_result",
          "data": {
            "image/svg+xml": "<?xml version=\"1.0\" encoding=\"UTF-8\" standalone=\"no\"?>\n<!DOCTYPE svg PUBLIC \"-//W3C//DTD SVG 1.1//EN\"\n \"http://www.w3.org/Graphics/SVG/1.1/DTD/svg11.dtd\">\n<!-- Generated by graphviz version 2.43.0 (0)\n -->\n<!-- Title: g Pages: 1 -->\n<svg width=\"127pt\" height=\"401pt\"\n viewBox=\"0.00 0.00 127.00 401.27\" xmlns=\"http://www.w3.org/2000/svg\" xmlns:xlink=\"http://www.w3.org/1999/xlink\">\n<g id=\"graph0\" class=\"graph\" transform=\"scale(1 1) rotate(0) translate(4 397.27)\">\n<title>g</title>\n<polygon fill=\"white\" stroke=\"transparent\" points=\"-4,4 -4,-397.27 123,-397.27 123,4 -4,4\"/>\n<text text-anchor=\"middle\" x=\"59.5\" y=\"-7.8\" font-family=\"Times,serif\" font-size=\"14.00\">[0 1 3 4 2 ] LOOP</text>\n<!-- 0 -->\n<g id=\"node1\" class=\"node\">\n<title>0</title>\n<ellipse fill=\"none\" stroke=\"black\" cx=\"92\" cy=\"-370.65\" rx=\"27\" ry=\"22.76\"/>\n<text text-anchor=\"start\" x=\"88.5\" y=\"-372.45\" font-family=\"Times,serif\" font-size=\"14.00\">0</text>\n<text text-anchor=\"start\" x=\"82.5\" y=\"-361.65\" font-family=\"Times,serif\" font-size=\"10.00\">1/10</text>\n</g>\n<!-- 1 -->\n<g id=\"node2\" class=\"node\">\n<title>1</title>\n<ellipse fill=\"none\" stroke=\"black\" cx=\"65\" cy=\"-289.39\" rx=\"27\" ry=\"22.76\"/>\n<text text-anchor=\"start\" x=\"61.5\" y=\"-291.19\" font-family=\"Times,serif\" font-size=\"14.00\">1</text>\n<text text-anchor=\"start\" x=\"58\" y=\"-280.39\" font-family=\"Times,serif\" font-size=\"10.00\">2/9</text>\n</g>\n<!-- 0&#45;&gt;1 -->\n<g id=\"edge1\" class=\"edge\">\n<title>0&#45;&gt;1</title>\n<path fill=\"none\" stroke=\"red\" d=\"M84.76,-348.41C81.9,-339.99 78.54,-330.15 75.42,-320.99\"/>\n<polygon fill=\"red\" stroke=\"red\" points=\"78.7,-319.75 72.16,-311.41 72.07,-322.01 78.7,-319.75\"/>\n</g>\n<!-- 2 -->\n<g id=\"node5\" class=\"node\">\n<title>2</title>\n<ellipse fill=\"none\" stroke=\"black\" cx=\"82\" cy=\"-45.63\" rx=\"27\" ry=\"22.76\"/>\n<text text-anchor=\"start\" x=\"78.5\" y=\"-47.43\" font-family=\"Times,serif\" font-size=\"14.00\">2</text>\n<text text-anchor=\"start\" x=\"75\" y=\"-36.63\" font-family=\"Times,serif\" font-size=\"10.00\">5/6</text>\n</g>\n<!-- 0&#45;&gt;2 -->\n<g id=\"edge2\" class=\"edge\">\n<title>0&#45;&gt;2</title>\n<path fill=\"none\" stroke=\"red\" d=\"M96.17,-348.12C98.06,-337.33 100.07,-324.03 101,-312.02 105.35,-255.96 104.82,-241.61 101,-185.51 98.48,-148.48 92.22,-106.28 87.57,-78.21\"/>\n<polygon fill=\"red\" stroke=\"red\" points=\"90.99,-77.46 85.88,-68.18 84.09,-78.63 90.99,-77.46\"/>\n</g>\n<!-- 3 -->\n<g id=\"node3\" class=\"node\">\n<title>3</title>\n<ellipse fill=\"none\" stroke=\"black\" cx=\"65\" cy=\"-208.14\" rx=\"27\" ry=\"22.76\"/>\n<text text-anchor=\"start\" x=\"61.5\" y=\"-209.94\" font-family=\"Times,serif\" font-size=\"14.00\">3</text>\n<text text-anchor=\"start\" x=\"58\" y=\"-199.14\" font-family=\"Times,serif\" font-size=\"10.00\">3/8</text>\n</g>\n<!-- 1&#45;&gt;3 -->\n<g id=\"edge3\" class=\"edge\">\n<title>1&#45;&gt;3</title>\n<path fill=\"none\" stroke=\"red\" d=\"M65,-266.74C65,-258.78 65,-249.61 65,-240.95\"/>\n<polygon fill=\"red\" stroke=\"red\" points=\"68.5,-240.77 65,-230.77 61.5,-240.77 68.5,-240.77\"/>\n</g>\n<!-- 4 -->\n<g id=\"node4\" class=\"node\">\n<title>4</title>\n<ellipse fill=\"none\" stroke=\"black\" cx=\"27\" cy=\"-126.88\" rx=\"27\" ry=\"22.76\"/>\n<text text-anchor=\"start\" x=\"23.5\" y=\"-128.68\" font-family=\"Times,serif\" font-size=\"14.00\">4</text>\n<text text-anchor=\"start\" x=\"20\" y=\"-117.88\" font-family=\"Times,serif\" font-size=\"10.00\">4/7</text>\n</g>\n<!-- 3&#45;&gt;4 -->\n<g id=\"edge5\" class=\"edge\">\n<title>3&#45;&gt;4</title>\n<path fill=\"none\" stroke=\"red\" d=\"M55.21,-186.73C50.91,-177.76 45.78,-167.06 41.09,-157.26\"/>\n<polygon fill=\"red\" stroke=\"red\" points=\"44.23,-155.73 36.75,-148.22 37.92,-158.75 44.23,-155.73\"/>\n</g>\n<!-- 4&#45;&gt;2 -->\n<g id=\"edge6\" class=\"edge\">\n<title>4&#45;&gt;2</title>\n<path fill=\"none\" stroke=\"red\" d=\"M40.31,-106.7C47.14,-96.86 55.57,-84.72 63.05,-73.93\"/>\n<polygon fill=\"red\" stroke=\"red\" points=\"65.98,-75.85 68.81,-65.64 60.23,-71.86 65.98,-75.85\"/>\n</g>\n<!-- 2&#45;&gt;3 -->\n<g id=\"edge4\" class=\"edge\">\n<title>2&#45;&gt;3</title>\n<path fill=\"none\" stroke=\"red\" d=\"M79.72,-68.19C76.8,-95.74 71.72,-143.67 68.36,-175.4\"/>\n<polygon fill=\"red\" stroke=\"red\" points=\"64.87,-175.18 67.29,-185.49 71.83,-175.91 64.87,-175.18\"/>\n</g>\n</g>\n</svg>\n",
            "text/plain": [
              "<graphviz.sources.Source at 0x787c335bf760>"
            ]
          },
          "metadata": {},
          "execution_count": 33
        }
      ],
      "source": [
        "Source(read_dot_file(\"3dfs\"))"
      ]
    },
    {
      "cell_type": "code",
      "execution_count": 34,
      "metadata": {
        "colab": {
          "base_uri": "https://localhost:8080/",
          "height": 777
        },
        "id": "IXl4tG3VYSU0",
        "outputId": "fcb84fa3-9bb2-40d2-c937-bec68bfee361"
      },
      "outputs": [
        {
          "output_type": "stream",
          "name": "stdout",
          "text": [
            "/dot/catdfs.dot\n",
            "digraph g {\n",
            "label = \"[Cab Cat Mat Car Bar Bat ] NOLOOP\"\n",
            "Cab[label = <Cab<BR /><FONT POINT-SIZE='10'>5/12</FONT>>]\n",
            "Cat[label = <Cat<BR /><FONT POINT-SIZE='10'>8/11</FONT>>]\n",
            "Mat[label = <Mat<BR /><FONT POINT-SIZE='10'>9/10</FONT>>]\n",
            "Car[label = <Car<BR /><FONT POINT-SIZE='10'>6/7</FONT>>]\n",
            "Bar[label = <Bar<BR /><FONT POINT-SIZE='10'>1/4</FONT>>]\n",
            "Bat[label = <Bat<BR /><FONT POINT-SIZE='10'>2/3</FONT>>]\n",
            "edge [color=red]\n",
            "Bar -> Bat\n",
            "Cab -> Car\n",
            "Cab -> Cat\n",
            "Car -> Bar\n",
            "Mat -> Bat\n",
            "Cat -> Mat\n",
            "Cat -> Bat\n",
            "}\n",
            "\n"
          ]
        },
        {
          "output_type": "execute_result",
          "data": {
            "image/svg+xml": "<?xml version=\"1.0\" encoding=\"UTF-8\" standalone=\"no\"?>\n<!DOCTYPE svg PUBLIC \"-//W3C//DTD SVG 1.1//EN\"\n \"http://www.w3.org/Graphics/SVG/1.1/DTD/svg11.dtd\">\n<!-- Generated by graphviz version 2.43.0 (0)\n -->\n<!-- Title: g Pages: 1 -->\n<svg width=\"235pt\" height=\"320pt\"\n viewBox=\"0.00 0.00 235.00 320.02\" xmlns=\"http://www.w3.org/2000/svg\" xmlns:xlink=\"http://www.w3.org/1999/xlink\">\n<g id=\"graph0\" class=\"graph\" transform=\"scale(1 1) rotate(0) translate(4 316.02)\">\n<title>g</title>\n<polygon fill=\"white\" stroke=\"transparent\" points=\"-4,4 -4,-316.02 231,-316.02 231,4 -4,4\"/>\n<text text-anchor=\"middle\" x=\"113.5\" y=\"-7.8\" font-family=\"Times,serif\" font-size=\"14.00\">[Cab Cat Mat Car Bar Bat ] NOLOOP</text>\n<!-- Cab -->\n<g id=\"node1\" class=\"node\">\n<title>Cab</title>\n<ellipse fill=\"none\" stroke=\"black\" cx=\"133.29\" cy=\"-289.39\" rx=\"27\" ry=\"22.76\"/>\n<text text-anchor=\"start\" x=\"122.29\" y=\"-291.19\" font-family=\"Times,serif\" font-size=\"14.00\">Cab</text>\n<text text-anchor=\"start\" x=\"123.79\" y=\"-280.39\" font-family=\"Times,serif\" font-size=\"10.00\">5/12</text>\n</g>\n<!-- Cat -->\n<g id=\"node2\" class=\"node\">\n<title>Cat</title>\n<ellipse fill=\"none\" stroke=\"black\" cx=\"97.29\" cy=\"-208.14\" rx=\"27\" ry=\"22.76\"/>\n<text text-anchor=\"start\" x=\"87.79\" y=\"-209.94\" font-family=\"Times,serif\" font-size=\"14.00\">Cat</text>\n<text text-anchor=\"start\" x=\"87.79\" y=\"-199.14\" font-family=\"Times,serif\" font-size=\"10.00\">8/11</text>\n</g>\n<!-- Cab&#45;&gt;Cat -->\n<g id=\"edge3\" class=\"edge\">\n<title>Cab&#45;&gt;Cat</title>\n<path fill=\"none\" stroke=\"red\" d=\"M124.02,-267.98C119.99,-259.11 115.18,-248.54 110.77,-238.82\"/>\n<polygon fill=\"red\" stroke=\"red\" points=\"113.85,-237.14 106.53,-229.48 107.48,-240.03 113.85,-237.14\"/>\n</g>\n<!-- Car -->\n<g id=\"node4\" class=\"node\">\n<title>Car</title>\n<ellipse fill=\"none\" stroke=\"black\" cx=\"169.29\" cy=\"-208.14\" rx=\"27\" ry=\"22.76\"/>\n<text text-anchor=\"start\" x=\"159.29\" y=\"-209.94\" font-family=\"Times,serif\" font-size=\"14.00\">Car</text>\n<text text-anchor=\"start\" x=\"162.29\" y=\"-199.14\" font-family=\"Times,serif\" font-size=\"10.00\">6/7</text>\n</g>\n<!-- Cab&#45;&gt;Car -->\n<g id=\"edge2\" class=\"edge\">\n<title>Cab&#45;&gt;Car</title>\n<path fill=\"none\" stroke=\"red\" d=\"M142.56,-267.98C146.59,-259.11 151.39,-248.54 155.81,-238.82\"/>\n<polygon fill=\"red\" stroke=\"red\" points=\"159.1,-240.03 160.05,-229.48 152.73,-237.14 159.1,-240.03\"/>\n</g>\n<!-- Mat -->\n<g id=\"node3\" class=\"node\">\n<title>Mat</title>\n<ellipse fill=\"none\" stroke=\"black\" cx=\"58.29\" cy=\"-126.88\" rx=\"27.65\" ry=\"22.76\"/>\n<text text-anchor=\"start\" x=\"46.79\" y=\"-128.68\" font-family=\"Times,serif\" font-size=\"14.00\">Mat</text>\n<text text-anchor=\"start\" x=\"48.79\" y=\"-117.88\" font-family=\"Times,serif\" font-size=\"10.00\">9/10</text>\n</g>\n<!-- Cat&#45;&gt;Mat -->\n<g id=\"edge6\" class=\"edge\">\n<title>Cat&#45;&gt;Mat</title>\n<path fill=\"none\" stroke=\"red\" d=\"M87.25,-186.73C82.83,-177.76 77.57,-167.06 72.74,-157.26\"/>\n<polygon fill=\"red\" stroke=\"red\" points=\"75.85,-155.65 68.3,-148.22 69.57,-158.74 75.85,-155.65\"/>\n</g>\n<!-- Bat -->\n<g id=\"node6\" class=\"node\">\n<title>Bat</title>\n<ellipse fill=\"none\" stroke=\"black\" cx=\"114.29\" cy=\"-45.63\" rx=\"27\" ry=\"22.76\"/>\n<text text-anchor=\"start\" x=\"104.79\" y=\"-47.43\" font-family=\"Times,serif\" font-size=\"14.00\">Bat</text>\n<text text-anchor=\"start\" x=\"107.29\" y=\"-36.63\" font-family=\"Times,serif\" font-size=\"10.00\">2/3</text>\n</g>\n<!-- Cat&#45;&gt;Bat -->\n<g id=\"edge7\" class=\"edge\">\n<title>Cat&#45;&gt;Bat</title>\n<path fill=\"none\" stroke=\"red\" d=\"M99.58,-185.49C102.5,-157.89 107.58,-109.96 110.94,-78.26\"/>\n<polygon fill=\"red\" stroke=\"red\" points=\"114.43,-78.5 112.01,-68.19 107.47,-77.76 114.43,-78.5\"/>\n</g>\n<!-- Mat&#45;&gt;Bat -->\n<g id=\"edge5\" class=\"edge\">\n<title>Mat&#45;&gt;Bat</title>\n<path fill=\"none\" stroke=\"red\" d=\"M71.84,-106.7C78.84,-96.79 87.5,-84.54 95.17,-73.69\"/>\n<polygon fill=\"red\" stroke=\"red\" points=\"98.14,-75.55 101.05,-65.36 92.42,-71.51 98.14,-75.55\"/>\n</g>\n<!-- Bar -->\n<g id=\"node5\" class=\"node\">\n<title>Bar</title>\n<ellipse fill=\"none\" stroke=\"black\" cx=\"169.29\" cy=\"-126.88\" rx=\"27\" ry=\"22.76\"/>\n<text text-anchor=\"start\" x=\"159.29\" y=\"-128.68\" font-family=\"Times,serif\" font-size=\"14.00\">Bar</text>\n<text text-anchor=\"start\" x=\"162.29\" y=\"-117.88\" font-family=\"Times,serif\" font-size=\"10.00\">1/4</text>\n</g>\n<!-- Car&#45;&gt;Bar -->\n<g id=\"edge4\" class=\"edge\">\n<title>Car&#45;&gt;Bar</title>\n<path fill=\"none\" stroke=\"red\" d=\"M169.29,-185.48C169.29,-177.53 169.29,-168.36 169.29,-159.7\"/>\n<polygon fill=\"red\" stroke=\"red\" points=\"172.79,-159.51 169.29,-149.51 165.79,-159.51 172.79,-159.51\"/>\n</g>\n<!-- Bar&#45;&gt;Bat -->\n<g id=\"edge1\" class=\"edge\">\n<title>Bar&#45;&gt;Bat</title>\n<path fill=\"none\" stroke=\"red\" d=\"M155.97,-106.7C149.15,-96.86 140.72,-84.72 133.24,-73.93\"/>\n<polygon fill=\"red\" stroke=\"red\" points=\"136.06,-71.86 127.48,-65.64 130.31,-75.85 136.06,-71.86\"/>\n</g>\n</g>\n</svg>\n",
            "text/plain": [
              "<graphviz.sources.Source at 0x787c335bf1c0>"
            ]
          },
          "metadata": {},
          "execution_count": 34
        }
      ],
      "source": [
        "Source(read_dot_file(\"catdfs\"))"
      ]
    },
    {
      "cell_type": "code",
      "execution_count": 35,
      "metadata": {
        "colab": {
          "base_uri": "https://localhost:8080/",
          "height": 1000
        },
        "id": "WOizch6GYVa1",
        "outputId": "4fb36efa-cc17-4ceb-9853-d587bcc46da5"
      },
      "outputs": [
        {
          "output_type": "stream",
          "name": "stdout",
          "text": [
            "/dot/7dfs.dot\n",
            "digraph g {\n",
            "label = \"[0 3 1 2 4 5 6 ] NOLOOP\"\n",
            "0[label = <0<BR /><FONT POINT-SIZE='10'>1/14</FONT>>]\n",
            "3[label = <3<BR /><FONT POINT-SIZE='10'>10/13</FONT>>]\n",
            "1[label = <1<BR /><FONT POINT-SIZE='10'>11/12</FONT>>]\n",
            "2[label = <2<BR /><FONT POINT-SIZE='10'>2/9</FONT>>]\n",
            "4[label = <4<BR /><FONT POINT-SIZE='10'>7/8</FONT>>]\n",
            "5[label = <5<BR /><FONT POINT-SIZE='10'>3/6</FONT>>]\n",
            "6[label = <6<BR /><FONT POINT-SIZE='10'>4/5</FONT>>]\n",
            "edge [color=red]\n",
            "0 -> 2 [label = 5]\n",
            "0 -> 3 [label = 3]\n",
            "0 -> 1 [label = 14]\n",
            "2 -> 5 [label = 2]\n",
            "2 -> 4 [label = 3]\n",
            "3 -> 2 [label = 11]\n",
            "3 -> 4 [label = 7]\n",
            "3 -> 1 [label = 6]\n",
            "1 -> 6 [label = 6]\n",
            "1 -> 4 [label = 7]\n",
            "4 -> 6 [label = 5]\n",
            "5 -> 6 [label = 7]\n",
            "}\n",
            "\n"
          ]
        },
        {
          "output_type": "execute_result",
          "data": {
            "image/svg+xml": "<?xml version=\"1.0\" encoding=\"UTF-8\" standalone=\"no\"?>\n<!DOCTYPE svg PUBLIC \"-//W3C//DTD SVG 1.1//EN\"\n \"http://www.w3.org/Graphics/SVG/1.1/DTD/svg11.dtd\">\n<!-- Generated by graphviz version 2.43.0 (0)\n -->\n<!-- Title: g Pages: 1 -->\n<svg width=\"190pt\" height=\"461pt\"\n viewBox=\"0.00 0.00 190.28 461.27\" xmlns=\"http://www.w3.org/2000/svg\" xmlns:xlink=\"http://www.w3.org/1999/xlink\">\n<g id=\"graph0\" class=\"graph\" transform=\"scale(1 1) rotate(0) translate(4 457.27)\">\n<title>g</title>\n<polygon fill=\"white\" stroke=\"transparent\" points=\"-4,4 -4,-457.27 186.28,-457.27 186.28,4 -4,4\"/>\n<text text-anchor=\"middle\" x=\"91.14\" y=\"-7.8\" font-family=\"Times,serif\" font-size=\"14.00\">[0 3 1 2 4 5 6 ] NOLOOP</text>\n<!-- 0 -->\n<g id=\"node1\" class=\"node\">\n<title>0</title>\n<ellipse fill=\"none\" stroke=\"black\" cx=\"89.28\" cy=\"-430.65\" rx=\"27\" ry=\"22.76\"/>\n<text text-anchor=\"start\" x=\"85.78\" y=\"-432.45\" font-family=\"Times,serif\" font-size=\"14.00\">0</text>\n<text text-anchor=\"start\" x=\"79.78\" y=\"-421.65\" font-family=\"Times,serif\" font-size=\"10.00\">1/14</text>\n</g>\n<!-- 3 -->\n<g id=\"node2\" class=\"node\">\n<title>3</title>\n<ellipse fill=\"none\" stroke=\"black\" cx=\"89.28\" cy=\"-334.39\" rx=\"28.98\" ry=\"22.76\"/>\n<text text-anchor=\"start\" x=\"85.78\" y=\"-336.19\" font-family=\"Times,serif\" font-size=\"14.00\">3</text>\n<text text-anchor=\"start\" x=\"76.78\" y=\"-325.39\" font-family=\"Times,serif\" font-size=\"10.00\">10/13</text>\n</g>\n<!-- 0&#45;&gt;3 -->\n<g id=\"edge2\" class=\"edge\">\n<title>0&#45;&gt;3</title>\n<path fill=\"none\" stroke=\"red\" d=\"M89.28,-407.79C89.28,-395.77 89.28,-380.64 89.28,-367.33\"/>\n<polygon fill=\"red\" stroke=\"red\" points=\"92.78,-367.13 89.28,-357.13 85.78,-367.13 92.78,-367.13\"/>\n<text text-anchor=\"middle\" x=\"92.78\" y=\"-378.82\" font-family=\"Times,serif\" font-size=\"14.00\">3</text>\n</g>\n<!-- 1 -->\n<g id=\"node3\" class=\"node\">\n<title>1</title>\n<ellipse fill=\"none\" stroke=\"black\" cx=\"28.28\" cy=\"-238.14\" rx=\"28.07\" ry=\"22.76\"/>\n<text text-anchor=\"start\" x=\"24.78\" y=\"-239.94\" font-family=\"Times,serif\" font-size=\"14.00\">1</text>\n<text text-anchor=\"start\" x=\"16.28\" y=\"-229.14\" font-family=\"Times,serif\" font-size=\"10.00\">11/12</text>\n</g>\n<!-- 0&#45;&gt;1 -->\n<g id=\"edge3\" class=\"edge\">\n<title>0&#45;&gt;1</title>\n<path fill=\"none\" stroke=\"red\" d=\"M72.77,-412.44C60.63,-398.64 44.97,-378.15 37.28,-357.02 27.14,-329.13 25.59,-295.13 26.15,-270.83\"/>\n<polygon fill=\"red\" stroke=\"red\" points=\"29.65,-270.85 26.52,-260.73 22.66,-270.59 29.65,-270.85\"/>\n<text text-anchor=\"middle\" x=\"44.28\" y=\"-330.69\" font-family=\"Times,serif\" font-size=\"14.00\">14</text>\n</g>\n<!-- 2 -->\n<g id=\"node4\" class=\"node\">\n<title>2</title>\n<ellipse fill=\"none\" stroke=\"black\" cx=\"149.28\" cy=\"-238.14\" rx=\"27\" ry=\"22.76\"/>\n<text text-anchor=\"start\" x=\"145.78\" y=\"-239.94\" font-family=\"Times,serif\" font-size=\"14.00\">2</text>\n<text text-anchor=\"start\" x=\"142.28\" y=\"-229.14\" font-family=\"Times,serif\" font-size=\"10.00\">2/9</text>\n</g>\n<!-- 0&#45;&gt;2 -->\n<g id=\"edge1\" class=\"edge\">\n<title>0&#45;&gt;2</title>\n<path fill=\"none\" stroke=\"red\" d=\"M101.32,-410.29C109.7,-396.03 120.55,-375.92 127.28,-357.02 136.92,-329.98 135.06,-321.99 140.28,-293.76 141.67,-286.29 143.05,-278.22 144.31,-270.64\"/>\n<polygon fill=\"red\" stroke=\"red\" points=\"147.78,-271.14 145.93,-260.71 140.87,-270.01 147.78,-271.14\"/>\n<text text-anchor=\"middle\" x=\"140.78\" y=\"-330.69\" font-family=\"Times,serif\" font-size=\"14.00\">5</text>\n</g>\n<!-- 3&#45;&gt;1 -->\n<g id=\"edge8\" class=\"edge\">\n<title>3&#45;&gt;1</title>\n<path fill=\"none\" stroke=\"red\" d=\"M76.65,-313.86C67.89,-300.34 56.11,-282.14 46.37,-267.08\"/>\n<polygon fill=\"red\" stroke=\"red\" points=\"49.28,-265.14 40.91,-258.64 43.4,-268.94 49.28,-265.14\"/>\n<text text-anchor=\"middle\" x=\"66.78\" y=\"-282.56\" font-family=\"Times,serif\" font-size=\"14.00\">6</text>\n</g>\n<!-- 3&#45;&gt;2 -->\n<g id=\"edge6\" class=\"edge\">\n<title>3&#45;&gt;2</title>\n<path fill=\"none\" stroke=\"red\" d=\"M101.72,-313.86C110.38,-300.25 122.07,-281.89 131.69,-266.78\"/>\n<polygon fill=\"red\" stroke=\"red\" points=\"134.66,-268.63 137.07,-258.32 128.75,-264.88 134.66,-268.63\"/>\n<text text-anchor=\"middle\" x=\"129.28\" y=\"-282.56\" font-family=\"Times,serif\" font-size=\"14.00\">11</text>\n</g>\n<!-- 4 -->\n<g id=\"node5\" class=\"node\">\n<title>4</title>\n<ellipse fill=\"none\" stroke=\"black\" cx=\"83.28\" cy=\"-141.88\" rx=\"27\" ry=\"22.76\"/>\n<text text-anchor=\"start\" x=\"79.78\" y=\"-143.68\" font-family=\"Times,serif\" font-size=\"14.00\">4</text>\n<text text-anchor=\"start\" x=\"76.28\" y=\"-132.88\" font-family=\"Times,serif\" font-size=\"10.00\">7/8</text>\n</g>\n<!-- 3&#45;&gt;4 -->\n<g id=\"edge7\" class=\"edge\">\n<title>3&#45;&gt;4</title>\n<path fill=\"none\" stroke=\"red\" d=\"M88.6,-311.54C87.54,-278.04 85.52,-213.8 84.3,-175\"/>\n<polygon fill=\"red\" stroke=\"red\" points=\"87.79,-174.66 83.97,-164.77 80.79,-174.88 87.79,-174.66\"/>\n<text text-anchor=\"middle\" x=\"89.78\" y=\"-234.44\" font-family=\"Times,serif\" font-size=\"14.00\">7</text>\n</g>\n<!-- 1&#45;&gt;4 -->\n<g id=\"edge10\" class=\"edge\">\n<title>1&#45;&gt;4</title>\n<path fill=\"none\" stroke=\"red\" d=\"M39.95,-217.15C47.73,-203.81 58.08,-186.08 66.71,-171.29\"/>\n<polygon fill=\"red\" stroke=\"red\" points=\"69.81,-172.92 71.83,-162.52 63.76,-169.39 69.81,-172.92\"/>\n<text text-anchor=\"middle\" x=\"62.78\" y=\"-186.31\" font-family=\"Times,serif\" font-size=\"14.00\">7</text>\n</g>\n<!-- 6 -->\n<g id=\"node7\" class=\"node\">\n<title>6</title>\n<ellipse fill=\"none\" stroke=\"black\" cx=\"83.28\" cy=\"-45.63\" rx=\"27\" ry=\"22.76\"/>\n<text text-anchor=\"start\" x=\"79.78\" y=\"-47.43\" font-family=\"Times,serif\" font-size=\"14.00\">6</text>\n<text text-anchor=\"start\" x=\"76.28\" y=\"-36.63\" font-family=\"Times,serif\" font-size=\"10.00\">4/5</text>\n</g>\n<!-- 1&#45;&gt;6 -->\n<g id=\"edge9\" class=\"edge\">\n<title>1&#45;&gt;6</title>\n<path fill=\"none\" stroke=\"red\" d=\"M27.73,-215.26C27.75,-191.15 29.67,-151.5 40.28,-119.25 45.57,-103.2 54.83,-86.86 63.4,-73.76\"/>\n<polygon fill=\"red\" stroke=\"red\" points=\"66.45,-75.49 69.17,-65.25 60.66,-71.56 66.45,-75.49\"/>\n<text text-anchor=\"middle\" x=\"43.78\" y=\"-138.18\" font-family=\"Times,serif\" font-size=\"14.00\">6</text>\n</g>\n<!-- 2&#45;&gt;4 -->\n<g id=\"edge5\" class=\"edge\">\n<title>2&#45;&gt;4</title>\n<path fill=\"none\" stroke=\"red\" d=\"M135.93,-218.06C126.36,-204.39 113.32,-185.77 102.61,-170.48\"/>\n<polygon fill=\"red\" stroke=\"red\" points=\"105.22,-168.11 96.62,-161.93 99.49,-172.13 105.22,-168.11\"/>\n<text text-anchor=\"middle\" x=\"122.78\" y=\"-186.31\" font-family=\"Times,serif\" font-size=\"14.00\">3</text>\n</g>\n<!-- 5 -->\n<g id=\"node6\" class=\"node\">\n<title>5</title>\n<ellipse fill=\"none\" stroke=\"black\" cx=\"155.28\" cy=\"-141.88\" rx=\"27\" ry=\"22.76\"/>\n<text text-anchor=\"start\" x=\"151.78\" y=\"-143.68\" font-family=\"Times,serif\" font-size=\"14.00\">5</text>\n<text text-anchor=\"start\" x=\"148.28\" y=\"-132.88\" font-family=\"Times,serif\" font-size=\"10.00\">3/6</text>\n</g>\n<!-- 2&#45;&gt;5 -->\n<g id=\"edge4\" class=\"edge\">\n<title>2&#45;&gt;5</title>\n<path fill=\"none\" stroke=\"red\" d=\"M150.68,-215.28C151.44,-203.26 152.4,-188.14 153.25,-174.82\"/>\n<polygon fill=\"red\" stroke=\"red\" points=\"156.76,-174.83 153.9,-164.62 149.77,-174.38 156.76,-174.83\"/>\n<text text-anchor=\"middle\" x=\"155.78\" y=\"-186.31\" font-family=\"Times,serif\" font-size=\"14.00\">2</text>\n</g>\n<!-- 4&#45;&gt;6 -->\n<g id=\"edge11\" class=\"edge\">\n<title>4&#45;&gt;6</title>\n<path fill=\"none\" stroke=\"red\" d=\"M83.28,-119.02C83.28,-107.01 83.28,-91.88 83.28,-78.57\"/>\n<polygon fill=\"red\" stroke=\"red\" points=\"86.78,-78.37 83.28,-68.37 79.78,-78.37 86.78,-78.37\"/>\n<text text-anchor=\"middle\" x=\"86.78\" y=\"-90.05\" font-family=\"Times,serif\" font-size=\"14.00\">5</text>\n</g>\n<!-- 5&#45;&gt;6 -->\n<g id=\"edge12\" class=\"edge\">\n<title>5&#45;&gt;6</title>\n<path fill=\"none\" stroke=\"red\" d=\"M141.06,-122.26C130.41,-108.32 115.69,-89.04 103.77,-73.44\"/>\n<polygon fill=\"red\" stroke=\"red\" points=\"106.33,-71.03 97.48,-65.21 100.77,-75.28 106.33,-71.03\"/>\n<text text-anchor=\"middle\" x=\"126.78\" y=\"-90.05\" font-family=\"Times,serif\" font-size=\"14.00\">7</text>\n</g>\n</g>\n</svg>\n",
            "text/plain": [
              "<graphviz.sources.Source at 0x787c335be9b0>"
            ]
          },
          "metadata": {},
          "execution_count": 35
        }
      ],
      "source": [
        "Source(read_dot_file(\"7dfs\"))"
      ]
    },
    {
      "cell_type": "markdown",
      "source": [],
      "metadata": {
        "id": "-fHeOCnQpJEq"
      }
    },
    {
      "cell_type": "markdown",
      "source": [],
      "metadata": {
        "id": "d0W3HvnipNfK"
      }
    }
  ],
  "metadata": {
    "colab": {
      "provenance": [],
      "include_colab_link": true
    },
    "kernelspec": {
      "display_name": "Python 3 (ipykernel)",
      "language": "python",
      "name": "python3"
    },
    "language_info": {
      "codemirror_mode": {
        "name": "ipython",
        "version": 3
      },
      "file_extension": ".py",
      "mimetype": "text/x-python",
      "name": "python",
      "nbconvert_exporter": "python",
      "pygments_lexer": "ipython3",
      "version": "3.11.4"
    }
  },
  "nbformat": 4,
  "nbformat_minor": 0
}